{
 "cells": [
  {
   "cell_type": "markdown",
   "id": "ea86badc",
   "metadata": {},
   "source": [
    "## Imports"
   ]
  },
  {
   "cell_type": "code",
   "execution_count": 1,
   "id": "a89ee9bd",
   "metadata": {},
   "outputs": [],
   "source": [
    "import numpy as np \n",
    "import pandas as pd"
   ]
  },
  {
   "cell_type": "markdown",
   "id": "d7c754d1",
   "metadata": {},
   "source": [
    "## Centrepoints"
   ]
  },
  {
   "cell_type": "code",
   "execution_count": 2,
   "id": "bb28c7ae",
   "metadata": {},
   "outputs": [],
   "source": [
    "lat1 = 37.\n",
    "lat2 = 41.\n",
    "lon1 = -102.\n",
    "lon2 = -109.\n",
    "\n",
    "longitudes = []\n",
    "latitudes = []\n",
    "\n",
    "for i in np.arange(lon2,lon1,0.0427):\n",
    "    for j in np.arange(lat1,lat2,0.0427):\n",
    "        longitudes.append(i)\n",
    "        latitudes.append(j)"
   ]
  },
  {
   "cell_type": "code",
   "execution_count": 3,
   "id": "0259ce59",
   "metadata": {},
   "outputs": [],
   "source": [
    "centrepoints = pd.DataFrame({\n",
    "    'longitude': longitudes,\n",
    "    'latitude': latitudes\n",
    "})"
   ]
  },
  {
   "cell_type": "markdown",
   "id": "a3b4d489",
   "metadata": {},
   "source": [
    "## List of all Longs and Lats"
   ]
  },
  {
   "cell_type": "code",
   "execution_count": 4,
   "id": "ad500978",
   "metadata": {},
   "outputs": [],
   "source": [
    "centrepoints_array = centrepoints.to_numpy(dtype=float)"
   ]
  },
  {
   "cell_type": "code",
   "execution_count": 5,
   "id": "bbf435db",
   "metadata": {},
   "outputs": [
    {
     "data": {
      "text/plain": [
       "numpy.ndarray"
      ]
     },
     "execution_count": 5,
     "metadata": {},
     "output_type": "execute_result"
    }
   ],
   "source": [
    "type(centrepoints_array)"
   ]
  },
  {
   "cell_type": "code",
   "execution_count": 6,
   "id": "25fafb0d",
   "metadata": {},
   "outputs": [],
   "source": [
    "all_longs_and_lats = np.unique(centrepoints_array[0:])"
   ]
  },
  {
   "cell_type": "code",
   "execution_count": 7,
   "id": "803be5de",
   "metadata": {},
   "outputs": [],
   "source": [
    "longitudes__ = [-109.    , -108.9573, -108.9146, -108.8719, -108.8292, -108.7865,\n",
    "       -108.7438, -108.7011, -108.6584, -108.6157, -108.573 , -108.5303,\n",
    "       -108.4876, -108.4449, -108.4022, -108.3595, -108.3168, -108.2741,\n",
    "       -108.2314, -108.1887, -108.146 , -108.1033, -108.0606, -108.0179,\n",
    "       -107.9752, -107.9325, -107.8898, -107.8471, -107.8044, -107.7617,\n",
    "       -107.719 , -107.6763, -107.6336, -107.5909, -107.5482, -107.5055,\n",
    "       -107.4628, -107.4201, -107.3774, -107.3347, -107.292 , -107.2493,\n",
    "       -107.2066, -107.1639, -107.1212, -107.0785, -107.0358, -106.9931,\n",
    "       -106.9504, -106.9077, -106.865 , -106.8223, -106.7796, -106.7369,\n",
    "       -106.6942, -106.6515, -106.6088, -106.5661, -106.5234, -106.4807,\n",
    "       -106.438 , -106.3953, -106.3526, -106.3099, -106.2672, -106.2245,\n",
    "       -106.1818, -106.1391, -106.0964, -106.0537, -106.011 , -105.9683,\n",
    "       -105.9256, -105.8829, -105.8402, -105.7975, -105.7548, -105.7121,\n",
    "       -105.6694, -105.6267, -105.584 , -105.5413, -105.4986, -105.4559,\n",
    "       -105.4132, -105.3705, -105.3278, -105.2851, -105.2424, -105.1997,\n",
    "       -105.157 , -105.1143, -105.0716, -105.0289, -104.9862, -104.9435,\n",
    "       -104.9008, -104.8581, -104.8154, -104.7727, -104.73  , -104.6873,\n",
    "       -104.6446, -104.6019, -104.5592, -104.5165, -104.4738, -104.4311,\n",
    "       -104.3884, -104.3457, -104.303 , -104.2603, -104.2176, -104.1749,\n",
    "       -104.1322, -104.0895, -104.0468, -104.0041, -103.9614, -103.9187,\n",
    "       -103.876 , -103.8333, -103.7906, -103.7479, -103.7052, -103.6625,\n",
    "       -103.6198, -103.5771, -103.5344, -103.4917, -103.449 , -103.4063,\n",
    "       -103.3636, -103.3209, -103.2782, -103.2355, -103.1928, -103.1501,\n",
    "       -103.1074, -103.0647, -103.022 , -102.9793, -102.9366, -102.8939,\n",
    "       -102.8512, -102.8085, -102.7658, -102.7231, -102.6804, -102.6377,\n",
    "       -102.595 , -102.5523, -102.5096, -102.4669, -102.4242, -102.3815,\n",
    "       -102.3388, -102.2961, -102.2534, -102.2107, -102.168 , -102.1253,\n",
    "       -102.0826, -102.0399]"
   ]
  },
  {
   "cell_type": "code",
   "execution_count": 8,
   "id": "829216a4",
   "metadata": {},
   "outputs": [],
   "source": [
    "latitudes__ = [37.    ,   37.0427,   37.0854,   37.1281,\n",
    "         37.1708,   37.2135,   37.2562,   37.2989,   37.3416,   37.3843,\n",
    "         37.427 ,   37.4697,   37.5124,   37.5551,   37.5978,   37.6405,\n",
    "         37.6832,   37.7259,   37.7686,   37.8113,   37.854 ,   37.8967,\n",
    "         37.9394,   37.9821,   38.0248,   38.0675,   38.1102,   38.1529,\n",
    "         38.1956,   38.2383,   38.281 ,   38.3237,   38.3664,   38.4091,\n",
    "         38.4518,   38.4945,   38.5372,   38.5799,   38.6226,   38.6653,\n",
    "         38.708 ,   38.7507,   38.7934,   38.8361,   38.8788,   38.9215,\n",
    "         38.9642,   39.0069,   39.0496,   39.0923,   39.135 ,   39.1777,\n",
    "         39.2204,   39.2631,   39.3058,   39.3485,   39.3912,   39.4339,\n",
    "         39.4766,   39.5193,   39.562 ,   39.6047,   39.6474,   39.6901,\n",
    "         39.7328,   39.7755,   39.8182,   39.8609,   39.9036,   39.9463,\n",
    "         39.989 ,   40.0317,   40.0744,   40.1171,   40.1598,   40.2025,\n",
    "         40.2452,   40.2879,   40.3306,   40.3733,   40.416 ,   40.4587,\n",
    "         40.5014,   40.5441,   40.5868,   40.6295,   40.6722,   40.7149,\n",
    "         40.7576,   40.8003,   40.843 ,   40.8857,   40.9284,   40.9711]"
   ]
  },
  {
   "cell_type": "code",
   "execution_count": 9,
   "id": "114ba689",
   "metadata": {},
   "outputs": [
    {
     "name": "stdout",
     "output_type": "stream",
     "text": [
      "164\n",
      "94\n"
     ]
    }
   ],
   "source": [
    "print(len(longitudes__))\n",
    "print(len(latitudes__))"
   ]
  },
  {
   "cell_type": "code",
   "execution_count": 10,
   "id": "b479c6db",
   "metadata": {},
   "outputs": [],
   "source": [
    "longitudes__ = np.array(longitudes__)\n",
    "latitudes__ = np.array(latitudes__)"
   ]
  },
  {
   "cell_type": "markdown",
   "id": "24086bd1",
   "metadata": {},
   "source": [
    "## Average Centrepoints v1"
   ]
  },
  {
   "cell_type": "code",
   "execution_count": 11,
   "id": "9236fa68",
   "metadata": {},
   "outputs": [],
   "source": [
    "centrepoints_avg_v1 = []\n",
    "\n",
    "for i in range(0, len(longitudes__) - 1, 2):\n",
    "    for j in range(0, len(latitudes__) - 1, 2):\n",
    "        longitudes = longitudes__[i:i+2]\n",
    "        latitudes = latitudes__[j:j+2]\n",
    "\n",
    "        center_longitude = np.mean(longitudes)\n",
    "        center_latitude = np.mean(latitudes)\n",
    "        \n",
    "        centrepoints_avg_v1.append((center_longitude, center_latitude))"
   ]
  },
  {
   "cell_type": "markdown",
   "id": "9f30dc0f",
   "metadata": {},
   "source": [
    "## Average Centrepoints v2"
   ]
  },
  {
   "cell_type": "code",
   "execution_count": 12,
   "id": "92e846af",
   "metadata": {},
   "outputs": [],
   "source": [
    "longitudes__ = np.array(longitudes__)\n",
    "latitudes__ = np.array(latitudes__)\n",
    "\n",
    "centrepoints_avg_v2 = []\n",
    "\n",
    "for i in range(0, len(longitudes__) - 1, 2):\n",
    "    center_longitude = np.mean(longitudes__[i:i+2])\n",
    "    \n",
    "    for j in range(0, len(latitudes__) - 1, 2):\n",
    "        center_latitude = np.mean(latitudes__[j:j+2])\n",
    "        \n",
    "        centrepoints_avg_v2.append((center_longitude, center_latitude))"
   ]
  },
  {
   "cell_type": "markdown",
   "id": "aa3ed1f6",
   "metadata": {},
   "source": [
    "## Verifying"
   ]
  },
  {
   "cell_type": "code",
   "execution_count": 13,
   "id": "0992d8c3",
   "metadata": {},
   "outputs": [
    {
     "name": "stdout",
     "output_type": "stream",
     "text": [
      "Length of locations: 15416\n",
      "Length of locations divided by 4: 3854\n",
      "Length of locations assuming equal length of longitudes__ and latitudes__ 3854\n",
      "Length of locations NOT assuming equal length of longitudes__ and latitudes__ 3854\n"
     ]
    }
   ],
   "source": [
    "print(\"Length of locations:\" + \" \" + f\"{(len(centrepoints))}\")\n",
    "print(\"Length of locations divided by 4:\" + \" \" + f\"{(len(centrepoints)//4)}\")\n",
    "print(\"Length of locations assuming equal length of longitudes__ and latitudes__\" + \" \" + f\"{len(centrepoints_avg_v1)}\")\n",
    "print(\"Length of locations NOT assuming equal length of longitudes__ and latitudes__\" + \" \" + f\"{len(centrepoints_avg_v2)}\")"
   ]
  },
  {
   "cell_type": "markdown",
   "id": "1792a7e2",
   "metadata": {},
   "source": [
    "## Exporting"
   ]
  },
  {
   "cell_type": "code",
   "execution_count": 14,
   "id": "f8d191eb",
   "metadata": {},
   "outputs": [],
   "source": [
    "df_centrepoints_avg_v2 = pd.DataFrame(centrepoints_avg_v2)\n",
    "df_centrepoints_avg_v2.rename(columns={0:\"Longitude\", 1:\"Latitudes\"}, inplace=True)"
   ]
  },
  {
   "cell_type": "code",
   "execution_count": 15,
   "id": "f8a11332",
   "metadata": {},
   "outputs": [],
   "source": [
    "centrepoints.to_csv(r\"total_centrepoints.csv\")"
   ]
  },
  {
   "cell_type": "code",
   "execution_count": 16,
   "id": "8e76f53e",
   "metadata": {},
   "outputs": [],
   "source": [
    "df_centrepoints_avg_v2.to_csv(r\"average_centrepoints.csv\")"
   ]
  }
 ],
 "metadata": {
  "kernelspec": {
   "display_name": "Python 3 (ipykernel)",
   "language": "python",
   "name": "python3"
  },
  "language_info": {
   "codemirror_mode": {
    "name": "ipython",
    "version": 3
   },
   "file_extension": ".py",
   "mimetype": "text/x-python",
   "name": "python",
   "nbconvert_exporter": "python",
   "pygments_lexer": "ipython3",
   "version": "3.10.6"
  },
  "toc": {
   "base_numbering": 1,
   "nav_menu": {},
   "number_sections": true,
   "sideBar": true,
   "skip_h1_title": false,
   "title_cell": "Table of Contents",
   "title_sidebar": "Contents",
   "toc_cell": false,
   "toc_position": {},
   "toc_section_display": true,
   "toc_window_display": false
  }
 },
 "nbformat": 4,
 "nbformat_minor": 5
}
