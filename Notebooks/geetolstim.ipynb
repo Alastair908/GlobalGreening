{
 "cells": [
  {
   "cell_type": "markdown",
   "id": "3bd9a07a",
   "metadata": {},
   "source": [
    "# gee tools download practice"
   ]
  },
  {
   "cell_type": "code",
   "execution_count": 1,
   "id": "bbd6186b",
   "metadata": {},
   "outputs": [],
   "source": [
    "import ee"
   ]
  },
  {
   "cell_type": "code",
   "execution_count": 2,
   "id": "c744dc70",
   "metadata": {},
   "outputs": [
    {
     "data": {
      "text/html": [
       "<p>To authorize access needed by Earth Engine, open the following\n",
       "        URL in a web browser and follow the instructions:</p>\n",
       "        <p><a href=https://code.earthengine.google.com/client-auth?scopes=https%3A//www.googleapis.com/auth/earthengine%20https%3A//www.googleapis.com/auth/devstorage.full_control&request_id=X3HdwwlPOnxll13GWExVRdcvW1TK3qQsAuAeNjCqpqU&tc=pxt-Fa2tUQTGmupZziNzUSiAZfEbRhVojCjyKXr_4rY&cc=0nAGl69OyneFzAh-tdyudQyzQ9-agywwqXGUSnH9U_0>https://code.earthengine.google.com/client-auth?scopes=https%3A//www.googleapis.com/auth/earthengine%20https%3A//www.googleapis.com/auth/devstorage.full_control&request_id=X3HdwwlPOnxll13GWExVRdcvW1TK3qQsAuAeNjCqpqU&tc=pxt-Fa2tUQTGmupZziNzUSiAZfEbRhVojCjyKXr_4rY&cc=0nAGl69OyneFzAh-tdyudQyzQ9-agywwqXGUSnH9U_0</a></p>\n",
       "        <p>The authorization workflow will generate a code, which you should paste in the box below.</p>\n",
       "        "
      ],
      "text/plain": [
       "<IPython.core.display.HTML object>"
      ]
     },
     "metadata": {},
     "output_type": "display_data"
    },
    {
     "name": "stdout",
     "output_type": "stream",
     "text": [
      "Enter verification code: 4/1AbUR2VOgDfbAfrAw20Wytiq1EZ6ZbQfgFMiIRvcfsd-J1zxv6esWkOFANaE\n",
      "\n",
      "Successfully saved authorization token.\n"
     ]
    }
   ],
   "source": [
    "ee.Authenticate()"
   ]
  },
  {
   "cell_type": "code",
   "execution_count": 4,
   "id": "cd1c98d9",
   "metadata": {},
   "outputs": [
    {
     "name": "stdout",
     "output_type": "stream",
     "text": [
      "exporting L8SR_07Apr2013_232-89 to folder 'Earth_Images' in GDrive\n",
      "exporting L8SR_21Apr2013_232-89 to folder 'Earth_Images' in GDrive\n",
      "exporting L8SR_23May2013_232-89 to folder 'Earth_Images' in GDrive\n",
      "exporting L8SR_08Jun2013_232-89 to folder 'Earth_Images' in GDrive\n",
      "exporting L8SR_24Jun2013_232-89 to folder 'Earth_Images' in GDrive\n"
     ]
    }
   ],
   "source": [
    "ee.Initialize()\n",
    "\n",
    "import geetools\n",
    "\n",
    "# Define an ImageCollection\n",
    "site = ee.Geometry.Point([-72, -42]).buffer(1000)\n",
    "collection = ee.ImageCollection(\"LANDSAT/LC08/C01/T1_SR\").filterBounds(site).limit(5)\n",
    "# Set parameters\n",
    "bands = ['B2', 'B3', 'B4']\n",
    "scale = 30\n",
    "name_pattern = '{sat}_{system_date}_{WRS_PATH:%d}-{WRS_ROW:%d}'\n",
    "date_pattern = 'ddMMMy'  # dd: day, MMM: month (JAN), y: year\n",
    "folder = 'Earth_Images'\n",
    "data_type = 'uint32'\n",
    "extra = dict(sat='L8SR')\n",
    "region = site\n",
    "# Export\n",
    "tasks = geetools.batch.Export.imagecollection.toDrive(\n",
    "    collection=collection,\n",
    "    folder=folder,\n",
    "    region=region,\n",
    "    namePattern=name_pattern,\n",
    "    scale=scale,\n",
    "    dataType=data_type,\n",
    "    datePattern=date_pattern,\n",
    "    extra=extra,\n",
    "    verbose=True,\n",
    "    maxPixels=int(1e13)\n",
    ")"
   ]
  },
  {
   "cell_type": "code",
   "execution_count": null,
   "id": "59d957e8",
   "metadata": {},
   "outputs": [],
   "source": []
  }
 ],
 "metadata": {
  "kernelspec": {
   "display_name": "Python 3 (ipykernel)",
   "language": "python",
   "name": "python3"
  },
  "language_info": {
   "codemirror_mode": {
    "name": "ipython",
    "version": 3
   },
   "file_extension": ".py",
   "mimetype": "text/x-python",
   "name": "python",
   "nbconvert_exporter": "python",
   "pygments_lexer": "ipython3",
   "version": "3.10.6"
  },
  "toc": {
   "base_numbering": 1,
   "nav_menu": {},
   "number_sections": true,
   "sideBar": true,
   "skip_h1_title": false,
   "title_cell": "Table of Contents",
   "title_sidebar": "Contents",
   "toc_cell": false,
   "toc_position": {},
   "toc_section_display": true,
   "toc_window_display": false
  }
 },
 "nbformat": 4,
 "nbformat_minor": 5
}
