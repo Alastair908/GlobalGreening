{
 "cells": [
  {
   "cell_type": "code",
   "execution_count": 1,
   "id": "cec4b6ce",
   "metadata": {},
   "outputs": [],
   "source": [
    "import ee\n",
    "import geetools\n",
    "import urllib.request\n",
    "import pandas as pd\n",
    "import numpy as np"
   ]
  },
  {
   "cell_type": "code",
   "execution_count": 2,
   "id": "335cb4d7",
   "metadata": {
    "scrolled": true
   },
   "outputs": [
    {
     "data": {
      "text/html": [
       "<p>To authorize access needed by Earth Engine, open the following\n",
       "        URL in a web browser and follow the instructions:</p>\n",
       "        <p><a href=https://code.earthengine.google.com/client-auth?scopes=https%3A//www.googleapis.com/auth/earthengine%20https%3A//www.googleapis.com/auth/devstorage.full_control&request_id=qH8i5MRGkawmVWQdX1Po_V5hCAwgPOHa8EAIMNGkA-k&tc=NeoQw5Bgx4TfbCrlJpQwDkyhkKWrRuXSQxaswxmhAJQ&cc=wV5QwImPB6Y-IAdJtWXeW9f36QUZHYoFfosVz1rDklg>https://code.earthengine.google.com/client-auth?scopes=https%3A//www.googleapis.com/auth/earthengine%20https%3A//www.googleapis.com/auth/devstorage.full_control&request_id=qH8i5MRGkawmVWQdX1Po_V5hCAwgPOHa8EAIMNGkA-k&tc=NeoQw5Bgx4TfbCrlJpQwDkyhkKWrRuXSQxaswxmhAJQ&cc=wV5QwImPB6Y-IAdJtWXeW9f36QUZHYoFfosVz1rDklg</a></p>\n",
       "        <p>The authorization workflow will generate a code, which you should paste in the box below.</p>\n",
       "        "
      ],
      "text/plain": [
       "<IPython.core.display.HTML object>"
      ]
     },
     "metadata": {},
     "output_type": "display_data"
    },
    {
     "name": "stdout",
     "output_type": "stream",
     "text": [
      "Enter verification code: 4/1AbUR2VOUMfv-VR22m8kadX3XqicVIjnmyM-se1SQWmksGXv3MpftmHt12Aw\n",
      "\n",
      "Successfully saved authorization token.\n"
     ]
    }
   ],
   "source": [
    "ee.Authenticate()"
   ]
  },
  {
   "cell_type": "markdown",
   "id": "474cc80a",
   "metadata": {},
   "source": [
    "To authorize access needed by Earth Engine, open the following URL in a web browser and follow the instructions:\n",
    "\n",
    "https://code.earthengine.google.com/client-auth?scopes=https%3A//www.googleapis.com/auth/earthengine%20https%3A//www.googleapis.com/auth/devstorage.full_control&request_id=X3HdwwlPOnxll13GWExVRdcvW1TK3qQsAuAeNjCqpqU&tc=pxt-Fa2tUQTGmupZziNzUSiAZfEbRhVojCjyKXr_4rY&cc=0nAGl69OyneFzAh-tdyudQyzQ9-agywwqXGUSnH9U_0\n",
    "\n",
    "The authorization workflow will generate a code, which you should paste in the box below."
   ]
  },
  {
   "cell_type": "code",
   "execution_count": 3,
   "id": "79e0e41a",
   "metadata": {},
   "outputs": [],
   "source": [
    "ee.Initialize()"
   ]
  },
  {
   "cell_type": "markdown",
   "id": "1f1b6476",
   "metadata": {},
   "source": [
    "## Export Copernicus over time\n"
   ]
  },
  {
   "cell_type": "code",
   "execution_count": 4,
   "id": "b0f3af7f",
   "metadata": {},
   "outputs": [],
   "source": [
    "lat1 = 37.\n",
    "lat2 = 41.\n",
    "lon1 = -102.\n",
    "lon2 = -109.\n",
    "longitudes = []\n",
    "latitudes = []\n",
    "for i in np.arange(lon2,lon1,0.0427):\n",
    "    for j in np.arange(lat1,lat2,0.0427):\n",
    "        longitudes.append(i)\n",
    "        latitudes.append(j)\n",
    "        \n",
    "locations = pd.DataFrame({\n",
    "    'longitude': longitudes,\n",
    "    'latitude': latitudes\n",
    "})"
   ]
  },
  {
   "cell_type": "code",
   "execution_count": 5,
   "id": "6836689f",
   "metadata": {},
   "outputs": [
    {
     "data": {
      "text/html": [
       "<div>\n",
       "<style scoped>\n",
       "    .dataframe tbody tr th:only-of-type {\n",
       "        vertical-align: middle;\n",
       "    }\n",
       "\n",
       "    .dataframe tbody tr th {\n",
       "        vertical-align: top;\n",
       "    }\n",
       "\n",
       "    .dataframe thead th {\n",
       "        text-align: right;\n",
       "    }\n",
       "</style>\n",
       "<table border=\"1\" class=\"dataframe\">\n",
       "  <thead>\n",
       "    <tr style=\"text-align: right;\">\n",
       "      <th></th>\n",
       "      <th>longitude</th>\n",
       "      <th>latitude</th>\n",
       "    </tr>\n",
       "  </thead>\n",
       "  <tbody>\n",
       "    <tr>\n",
       "      <th>0</th>\n",
       "      <td>-109.0</td>\n",
       "      <td>37.0000</td>\n",
       "    </tr>\n",
       "    <tr>\n",
       "      <th>1</th>\n",
       "      <td>-109.0</td>\n",
       "      <td>37.0427</td>\n",
       "    </tr>\n",
       "    <tr>\n",
       "      <th>2</th>\n",
       "      <td>-109.0</td>\n",
       "      <td>37.0854</td>\n",
       "    </tr>\n",
       "  </tbody>\n",
       "</table>\n",
       "</div>"
      ],
      "text/plain": [
       "   longitude  latitude\n",
       "0     -109.0   37.0000\n",
       "1     -109.0   37.0427\n",
       "2     -109.0   37.0854"
      ]
     },
     "execution_count": 5,
     "metadata": {},
     "output_type": "execute_result"
    }
   ],
   "source": [
    "locations.head(3)"
   ]
  },
  {
   "cell_type": "code",
   "execution_count": 40,
   "id": "849da6d5",
   "metadata": {},
   "outputs": [],
   "source": [
    "start_year = 2000\n",
    "end_year = 2015"
   ]
  },
  {
   "cell_type": "code",
   "execution_count": 43,
   "id": "e0dc4832",
   "metadata": {},
   "outputs": [
    {
     "name": "stdout",
     "output_type": "stream",
     "text": [
      "2000\n",
      "2001\n",
      "2002\n",
      "2003\n",
      "2004\n",
      "2005\n",
      "2006\n",
      "2007\n",
      "2008\n",
      "2009\n",
      "2010\n",
      "2011\n",
      "2012\n",
      "2013\n",
      "2014\n"
     ]
    },
    {
     "ename": "AttributeError",
     "evalue": "'ImageCollection' object has no attribute 'projection'",
     "output_type": "error",
     "traceback": [
      "\u001b[0;31m---------------------------------------------------------------------------\u001b[0m",
      "\u001b[0;31mAttributeError\u001b[0m                            Traceback (most recent call last)",
      "Cell \u001b[0;32mIn[43], line 46\u001b[0m\n\u001b[1;32m     41\u001b[0m exportArea \u001b[38;5;241m=\u001b[39m (sentinel_footprint\u001b[38;5;241m.\u001b[39mcentroid()\u001b[38;5;241m.\u001b[39mbuffer(\u001b[38;5;241m2000\u001b[39m)\u001b[38;5;241m.\u001b[39mbounds())\n\u001b[1;32m     43\u001b[0m \u001b[38;5;66;03m# Export Parameters\u001b[39;00m\n\u001b[1;32m     44\u001b[0m visParams \u001b[38;5;241m=\u001b[39m {\n\u001b[1;32m     45\u001b[0m     \u001b[38;5;124m'\u001b[39m\u001b[38;5;124mregion\u001b[39m\u001b[38;5;124m'\u001b[39m: exportArea,\n\u001b[0;32m---> 46\u001b[0m     \u001b[38;5;124m'\u001b[39m\u001b[38;5;124mcrs\u001b[39m\u001b[38;5;124m'\u001b[39m: (\u001b[43mimage\u001b[49m\u001b[38;5;241;43m.\u001b[39;49m\u001b[43mselect\u001b[49m\u001b[43m(\u001b[49m\u001b[38;5;124;43m'\u001b[39;49m\u001b[38;5;124;43mSR_B3\u001b[39;49m\u001b[38;5;124;43m'\u001b[39;49m\u001b[43m)\u001b[49m\u001b[38;5;241;43m.\u001b[39;49m\u001b[43mprojection\u001b[49m()),\n\u001b[1;32m     47\u001b[0m     \u001b[38;5;124m'\u001b[39m\u001b[38;5;124mdimensions\u001b[39m\u001b[38;5;124m'\u001b[39m: imageDimensions,\n\u001b[1;32m     48\u001b[0m     \u001b[38;5;124m'\u001b[39m\u001b[38;5;124mformat\u001b[39m\u001b[38;5;124m'\u001b[39m: \u001b[38;5;124m'\u001b[39m\u001b[38;5;124mpng\u001b[39m\u001b[38;5;124m'\u001b[39m,\n\u001b[1;32m     49\u001b[0m     \u001b[38;5;124m'\u001b[39m\u001b[38;5;124mmin\u001b[39m\u001b[38;5;124m'\u001b[39m: vis_min,\n\u001b[1;32m     50\u001b[0m     \u001b[38;5;124m'\u001b[39m\u001b[38;5;124mmax\u001b[39m\u001b[38;5;124m'\u001b[39m: vis_max,\n\u001b[1;32m     51\u001b[0m     \u001b[38;5;124m'\u001b[39m\u001b[38;5;124mbands\u001b[39m\u001b[38;5;124m'\u001b[39m: vis_bands,\n\u001b[1;32m     52\u001b[0m     \u001b[38;5;124m'\u001b[39m\u001b[38;5;124mgamma\u001b[39m\u001b[38;5;124m'\u001b[39m:\u001b[38;5;241m1.5\u001b[39m\n\u001b[1;32m     53\u001b[0m }\n\u001b[1;32m     55\u001b[0m \u001b[38;5;66;03m# Export\u001b[39;00m\n\u001b[1;32m     56\u001b[0m image_url \u001b[38;5;241m=\u001b[39m (image\u001b[38;5;241m.\u001b[39mgetThumbURL(visParams))\n",
      "\u001b[0;31mAttributeError\u001b[0m: 'ImageCollection' object has no attribute 'projection'"
     ]
    }
   ],
   "source": [
    "vis_min = 0  #Visualization settings for the thumbnail\n",
    "vis_max = 10_000 #Visualization settings for the thumbnail\n",
    "vis_bands = ['SR_B3', 'SR_B2', 'SR_B1'] #Includes the bands for RGB\n",
    "imageDimensions = '512x512' #Set thumbnail image size (can't be too big, or you run into problems)\n",
    "start_location = 5000 # where you will start your loop based on the dataframe\n",
    "end_location = 6000 # where you will end your loop based on the dataframe\n",
    "\n",
    "for index,row in locations.iloc[start_location:end_location].iterrows():\n",
    "    id_ = index\n",
    "    longitude = row['longitude']\n",
    "    latitude = row['latitude']\n",
    "    center = ee.Geometry.Point(longitude,latitude)\n",
    "    \n",
    "    collection = []\n",
    "    \n",
    "    for year in range(start_year, end_year):\n",
    "        # Import Sentinel dataset\n",
    "        print(year)\n",
    "\n",
    "        s2 = (ee.ImageCollection(\"LANDSAT/LE07/C02/T1_L2\")\n",
    "              .filterBounds(center)\n",
    "              .sort('CLOUDY_PIXEL_PERCENTAGE',True)\n",
    "              .filterDate(f'{year}-01-01', f'{year}-06-30')\n",
    "              .first())\n",
    "        collection.append(s2)\n",
    "        \n",
    "    for image in collection:\n",
    "\n",
    "        # Create coordinates\n",
    "        try:\n",
    "            global sentinel_footprint\n",
    "            sentinel_footprint = (ee.Geometry.Polygon(coords=[(longitude - 0.018,latitude - 0.018),\n",
    "                                                          (longitude - 0.018,latitude + 0.018),\n",
    "                                                         (longitude + 0.018,latitude - 0.018),\n",
    "                                                         (longitude + 0.018,latitude + 0.018),]))\n",
    "        except:\n",
    "            print(\"No Footprint found\")\n",
    "            continue\n",
    "\n",
    "        # Create a rectangular export area\n",
    "        exportArea = (sentinel_footprint.centroid().buffer(2000).bounds())\n",
    "\n",
    "        # Export Parameters\n",
    "        visParams = {\n",
    "            'region': exportArea,\n",
    "            'crs': (image.select('SR_B3').projection()),\n",
    "            'dimensions': imageDimensions,\n",
    "            'format': 'png',\n",
    "            'min': vis_min,\n",
    "            'max': vis_max,\n",
    "            'bands': vis_bands,\n",
    "            'gamma':1.5\n",
    "        }\n",
    "\n",
    "        # Export\n",
    "        image_url = (image.getThumbURL(visParams))\n",
    "        urllib.request.urlretrieve(image_url,f\"..\\\\image{id_}_{round(longitude,2)}_{round(latitude,2)}_{year}.png\")\n",
    "        print(f'finished number {id_} at {round(longitude,2)} : {round(latitude,2)} : {year}')"
   ]
  },
  {
   "cell_type": "markdown",
   "id": "ed53e1a0",
   "metadata": {},
   "source": [
    "## Export an ImageCollection the simple way "
   ]
  },
  {
   "cell_type": "code",
   "execution_count": null,
   "id": "afd20a3f",
   "metadata": {},
   "outputs": [],
   "source": [
    "start_year = 2000\n",
    "end_year = 2015"
   ]
  },
  {
   "cell_type": "code",
   "execution_count": null,
   "id": "c3b743b3",
   "metadata": {},
   "outputs": [],
   "source": []
  },
  {
   "cell_type": "markdown",
   "id": "35302ed7",
   "metadata": {},
   "source": [
    "## Export Locations as CSV"
   ]
  },
  {
   "cell_type": "code",
   "execution_count": null,
   "id": "6e55999e",
   "metadata": {},
   "outputs": [],
   "source": [
    "locations.to_csv(r\"c:\\downloads\\centrepoints.csv\")"
   ]
  }
 ],
 "metadata": {
  "kernelspec": {
   "display_name": "Python 3 (ipykernel)",
   "language": "python",
   "name": "python3"
  },
  "language_info": {
   "codemirror_mode": {
    "name": "ipython",
    "version": 3
   },
   "file_extension": ".py",
   "mimetype": "text/x-python",
   "name": "python",
   "nbconvert_exporter": "python",
   "pygments_lexer": "ipython3",
   "version": "3.10.6"
  },
  "toc": {
   "base_numbering": 1,
   "nav_menu": {},
   "number_sections": true,
   "sideBar": true,
   "skip_h1_title": false,
   "title_cell": "Table of Contents",
   "title_sidebar": "Contents",
   "toc_cell": false,
   "toc_position": {},
   "toc_section_display": true,
   "toc_window_display": false
  }
 },
 "nbformat": 4,
 "nbformat_minor": 5
}
