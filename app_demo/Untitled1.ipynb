{
 "cells": [
  {
   "cell_type": "code",
   "execution_count": 1,
   "id": "b3af6301",
   "metadata": {},
   "outputs": [
    {
     "name": "stderr",
     "output_type": "stream",
     "text": [
      "2023-06-08 23:14:03.195 \n",
      "  \u001b[33m\u001b[1mWarning:\u001b[0m to view this Streamlit app on a browser, run it with the following\n",
      "  command:\n",
      "\n",
      "    streamlit run /Users/karakaya/.pyenv/versions/GlobalGreening/lib/python3.10/site-packages/ipykernel_launcher.py [ARGUMENTS]\n"
     ]
    },
    {
     "ename": "AttributeError",
     "evalue": "st.secrets has no attribute \"mapbox\". Did you forget to add it to secrets.toml or the app settings on Streamlit Cloud? More info: https://docs.streamlit.io/streamlit-cloud/get-started/deploy-an-app/connect-to-data-sources/secrets-management",
     "output_type": "error",
     "traceback": [
      "\u001b[0;31m---------------------------------------------------------------------------\u001b[0m",
      "\u001b[0;31mFileNotFoundError\u001b[0m                         Traceback (most recent call last)",
      "File \u001b[0;32m~/.pyenv/versions/GlobalGreening/lib/python3.10/site-packages/streamlit/runtime/secrets.py:287\u001b[0m, in \u001b[0;36mSecrets.__getattr__\u001b[0;34m(self, key)\u001b[0m\n\u001b[1;32m    286\u001b[0m \u001b[38;5;28;01mtry\u001b[39;00m:\n\u001b[0;32m--> 287\u001b[0m     value \u001b[38;5;241m=\u001b[39m \u001b[38;5;28;43mself\u001b[39;49m\u001b[38;5;241;43m.\u001b[39;49m\u001b[43m_parse\u001b[49m\u001b[43m(\u001b[49m\u001b[38;5;28;43;01mTrue\u001b[39;49;00m\u001b[43m)\u001b[49m[key]\n\u001b[1;32m    288\u001b[0m     \u001b[38;5;28;01mif\u001b[39;00m \u001b[38;5;129;01mnot\u001b[39;00m \u001b[38;5;28misinstance\u001b[39m(value, Mapping):\n",
      "File \u001b[0;32m~/.pyenv/versions/GlobalGreening/lib/python3.10/site-packages/streamlit/runtime/secrets.py:214\u001b[0m, in \u001b[0;36mSecrets._parse\u001b[0;34m(self, print_exceptions)\u001b[0m\n\u001b[1;32m    213\u001b[0m         st\u001b[38;5;241m.\u001b[39merror(err_msg)\n\u001b[0;32m--> 214\u001b[0m     \u001b[38;5;28;01mraise\u001b[39;00m \u001b[38;5;167;01mFileNotFoundError\u001b[39;00m(err_msg)\n\u001b[1;32m    216\u001b[0m \u001b[38;5;28;01mif\u001b[39;00m \u001b[38;5;28mlen\u001b[39m([p \u001b[38;5;28;01mfor\u001b[39;00m p \u001b[38;5;129;01min\u001b[39;00m \u001b[38;5;28mself\u001b[39m\u001b[38;5;241m.\u001b[39m_file_paths \u001b[38;5;28;01mif\u001b[39;00m os\u001b[38;5;241m.\u001b[39mpath\u001b[38;5;241m.\u001b[39mexists(p)]) \u001b[38;5;241m>\u001b[39m \u001b[38;5;241m1\u001b[39m:\n",
      "\u001b[0;31mFileNotFoundError\u001b[0m: No secrets files found. Valid paths for a secrets.toml file are: /Users/karakaya/.streamlit/secrets.toml, /Users/karakaya/code/Alastair908/GlobalGreening/app_demo/.streamlit/secrets.toml",
      "\nDuring handling of the above exception, another exception occurred:\n",
      "\u001b[0;31mAttributeError\u001b[0m                            Traceback (most recent call last)",
      "Cell \u001b[0;32mIn[1], line 7\u001b[0m\n\u001b[1;32m      4\u001b[0m \u001b[38;5;28;01mimport\u001b[39;00m \u001b[38;5;21;01mpydeck\u001b[39;00m \u001b[38;5;28;01mas\u001b[39;00m \u001b[38;5;21;01mpdk\u001b[39;00m\n\u001b[1;32m      5\u001b[0m \u001b[38;5;28;01mimport\u001b[39;00m \u001b[38;5;21;01mos\u001b[39;00m\n\u001b[0;32m----> 7\u001b[0m MAPBOX_API_KEY \u001b[38;5;241m=\u001b[39m \u001b[43mst\u001b[49m\u001b[38;5;241;43m.\u001b[39;49m\u001b[43msecrets\u001b[49m\u001b[38;5;241;43m.\u001b[39;49m\u001b[43mmapbox\u001b[49m\u001b[38;5;241m.\u001b[39mkey\n\u001b[1;32m      9\u001b[0m \u001b[38;5;66;03m# AWS Open Data Terrain Tiles\u001b[39;00m\n\u001b[1;32m     10\u001b[0m TERRAIN_IMAGE \u001b[38;5;241m=\u001b[39m \u001b[38;5;124m\"\u001b[39m\u001b[38;5;124mhttps://s3.amazonaws.com/elevation-tiles-prod/terrarium/\u001b[39m\u001b[38;5;132;01m{z}\u001b[39;00m\u001b[38;5;124m/\u001b[39m\u001b[38;5;132;01m{x}\u001b[39;00m\u001b[38;5;124m/\u001b[39m\u001b[38;5;132;01m{y}\u001b[39;00m\u001b[38;5;124m.png\u001b[39m\u001b[38;5;124m\"\u001b[39m\n",
      "File \u001b[0;32m~/.pyenv/versions/GlobalGreening/lib/python3.10/site-packages/streamlit/runtime/secrets.py:296\u001b[0m, in \u001b[0;36mSecrets.__getattr__\u001b[0;34m(self, key)\u001b[0m\n\u001b[1;32m    292\u001b[0m \u001b[38;5;66;03m# We add FileNotFoundError since __getattr__ is expected to only raise\u001b[39;00m\n\u001b[1;32m    293\u001b[0m \u001b[38;5;66;03m# AttributeError. Without handling FileNotFoundError, unittests.mocks\u001b[39;00m\n\u001b[1;32m    294\u001b[0m \u001b[38;5;66;03m# fails during mock creation on Python3.9\u001b[39;00m\n\u001b[1;32m    295\u001b[0m \u001b[38;5;28;01mexcept\u001b[39;00m (\u001b[38;5;167;01mKeyError\u001b[39;00m, \u001b[38;5;167;01mFileNotFoundError\u001b[39;00m):\n\u001b[0;32m--> 296\u001b[0m     \u001b[38;5;28;01mraise\u001b[39;00m \u001b[38;5;167;01mAttributeError\u001b[39;00m(_missing_attr_error_message(key))\n",
      "\u001b[0;31mAttributeError\u001b[0m: st.secrets has no attribute \"mapbox\". Did you forget to add it to secrets.toml or the app settings on Streamlit Cloud? More info: https://docs.streamlit.io/streamlit-cloud/get-started/deploy-an-app/connect-to-data-sources/secrets-management"
     ]
    }
   ],
   "source": [
    "import streamlit as st\n",
    "import pandas as pd\n",
    "import numpy as np\n",
    "import pydeck as pdk\n",
    "import os\n",
    "\n",
    "MAPBOX_API_KEY = st.secrets.mapbox.key\n",
    "\n",
    "# AWS Open Data Terrain Tiles\n",
    "TERRAIN_IMAGE = \"https://s3.amazonaws.com/elevation-tiles-prod/terrarium/{z}/{x}/{y}.png\"\n",
    "\n",
    "# Define how to parse elevation tiles\n",
    "ELEVATION_DECODER = {\"rScaler\": 256, \"gScaler\": 1, \"bScaler\": 1 / 256, \"offset\": -32768}\n",
    "\n",
    "SURFACE_IMAGE = f\"https://api.mapbox.com/v4/mapbox.satellite/{{z}}/{{x}}/{{y}}@2x.png?access_token={MAPBOX_API_KEY}\"\n",
    "\n",
    "chart_data = pd.DataFrame(\n",
    "    np.random.randn(15000, 2) / [10, 10] + [39.7302, -104.9903],\n",
    "    columns=['lat', 'lon']\n",
    ")\n",
    "\n",
    "st.title('GlobalGreening')\n",
    "st.text(chart_data.shape)\n",
    "\n",
    "st.pydeck_chart(pdk.Deck(\n",
    "    map_style=None,\n",
    "    initial_view_state=pdk.ViewState(\n",
    "        latitude=39.7302,\n",
    "        longitude=-104.9903,\n",
    "        zoom=10,\n",
    "        pitch=50,\n",
    "    ),\n",
    "    layers=[\n",
    "        pdk.Layer(\n",
    "            'HexagonLayer',\n",
    "            data=chart_data,\n",
    "            get_position='[lon, lat]',\n",
    "            radius=300,\n",
    "            elevation_scale=4,\n",
    "            elevation_range=[0, 1000],\n",
    "            pickable=True,\n",
    "            extruded=True,\n",
    "            get_fill_color='[0, 255, 0, 160]',  # Yeşil renk (R=0, G=255, B=0, Alpha=160)\n",
    "            auto_highlight=True,\n",
    "            coverage=1,\n",
    "        ),\n",
    "        pdk.Layer(\n",
    "            'ScatterplotLayer',\n",
    "            data=chart_data,\n",
    "            get_position='[lon, lat]',\n",
    "            get_color='[0, 255, 0, 160]',  # Yeşil renk (R=0, G=255, B=0, Alpha=160)\n",
    "            get_radius=200,\n",
    "        ),\n",
    "        pdk.Layer(\n",
    "            \"TerrainLayer\",\n",
    "            elevation_decoder=ELEVATION_DECODER,\n",
    "            texture=SURFACE_IMAGE,\n",
    "            elevation_data=TERRAIN_IMAGE\n",
    "        )\n",
    "    ]\n",
    "))\n"
   ]
  },
  {
   "cell_type": "code",
   "execution_count": null,
   "id": "b88a3971",
   "metadata": {},
   "outputs": [],
   "source": []
  }
 ],
 "metadata": {
  "kernelspec": {
   "display_name": "Python 3 (ipykernel)",
   "language": "python",
   "name": "python3"
  },
  "language_info": {
   "codemirror_mode": {
    "name": "ipython",
    "version": 3
   },
   "file_extension": ".py",
   "mimetype": "text/x-python",
   "name": "python",
   "nbconvert_exporter": "python",
   "pygments_lexer": "ipython3",
   "version": "3.10.6"
  },
  "toc": {
   "base_numbering": 1,
   "nav_menu": {},
   "number_sections": true,
   "sideBar": true,
   "skip_h1_title": false,
   "title_cell": "Table of Contents",
   "title_sidebar": "Contents",
   "toc_cell": false,
   "toc_position": {},
   "toc_section_display": true,
   "toc_window_display": false
  }
 },
 "nbformat": 4,
 "nbformat_minor": 5
}
