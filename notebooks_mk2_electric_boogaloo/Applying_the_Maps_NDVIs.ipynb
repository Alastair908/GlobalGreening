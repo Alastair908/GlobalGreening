{
 "cells": [
  {
   "cell_type": "markdown",
   "id": "0023aa68",
   "metadata": {},
   "source": [
    "# Creating the final calculation"
   ]
  },
  {
   "cell_type": "markdown",
   "id": "72ace2b7",
   "metadata": {},
   "source": [
    "## imports"
   ]
  },
  {
   "cell_type": "code",
   "execution_count": 1,
   "id": "638e9012",
   "metadata": {},
   "outputs": [],
   "source": [
    "import pandas as pd\n",
    "import numpy as np\n",
    "from PIL import Image\n",
    "import matplotlib.pyplot as plt"
   ]
  },
  {
   "cell_type": "code",
   "execution_count": 2,
   "id": "a19e59ae",
   "metadata": {},
   "outputs": [
    {
     "data": {
      "text/html": [
       "<div>\n",
       "<style scoped>\n",
       "    .dataframe tbody tr th:only-of-type {\n",
       "        vertical-align: middle;\n",
       "    }\n",
       "\n",
       "    .dataframe tbody tr th {\n",
       "        vertical-align: top;\n",
       "    }\n",
       "\n",
       "    .dataframe thead th {\n",
       "        text-align: right;\n",
       "    }\n",
       "</style>\n",
       "<table border=\"1\" class=\"dataframe\">\n",
       "  <thead>\n",
       "    <tr style=\"text-align: right;\">\n",
       "      <th></th>\n",
       "      <th>Unnamed: 0</th>\n",
       "      <th>longitude</th>\n",
       "      <th>latitude</th>\n",
       "    </tr>\n",
       "  </thead>\n",
       "  <tbody>\n",
       "    <tr>\n",
       "      <th>0</th>\n",
       "      <td>0</td>\n",
       "      <td>-109.0000</td>\n",
       "      <td>37.0000</td>\n",
       "    </tr>\n",
       "    <tr>\n",
       "      <th>1</th>\n",
       "      <td>1</td>\n",
       "      <td>-109.0000</td>\n",
       "      <td>37.0427</td>\n",
       "    </tr>\n",
       "    <tr>\n",
       "      <th>2</th>\n",
       "      <td>2</td>\n",
       "      <td>-109.0000</td>\n",
       "      <td>37.0854</td>\n",
       "    </tr>\n",
       "    <tr>\n",
       "      <th>3</th>\n",
       "      <td>3</td>\n",
       "      <td>-109.0000</td>\n",
       "      <td>37.1281</td>\n",
       "    </tr>\n",
       "    <tr>\n",
       "      <th>4</th>\n",
       "      <td>4</td>\n",
       "      <td>-109.0000</td>\n",
       "      <td>37.1708</td>\n",
       "    </tr>\n",
       "    <tr>\n",
       "      <th>...</th>\n",
       "      <td>...</td>\n",
       "      <td>...</td>\n",
       "      <td>...</td>\n",
       "    </tr>\n",
       "    <tr>\n",
       "      <th>15411</th>\n",
       "      <td>15411</td>\n",
       "      <td>-102.0399</td>\n",
       "      <td>40.8003</td>\n",
       "    </tr>\n",
       "    <tr>\n",
       "      <th>15412</th>\n",
       "      <td>15412</td>\n",
       "      <td>-102.0399</td>\n",
       "      <td>40.8430</td>\n",
       "    </tr>\n",
       "    <tr>\n",
       "      <th>15413</th>\n",
       "      <td>15413</td>\n",
       "      <td>-102.0399</td>\n",
       "      <td>40.8857</td>\n",
       "    </tr>\n",
       "    <tr>\n",
       "      <th>15414</th>\n",
       "      <td>15414</td>\n",
       "      <td>-102.0399</td>\n",
       "      <td>40.9284</td>\n",
       "    </tr>\n",
       "    <tr>\n",
       "      <th>15415</th>\n",
       "      <td>15415</td>\n",
       "      <td>-102.0399</td>\n",
       "      <td>40.9711</td>\n",
       "    </tr>\n",
       "  </tbody>\n",
       "</table>\n",
       "<p>15416 rows × 3 columns</p>\n",
       "</div>"
      ],
      "text/plain": [
       "       Unnamed: 0  longitude  latitude\n",
       "0               0  -109.0000   37.0000\n",
       "1               1  -109.0000   37.0427\n",
       "2               2  -109.0000   37.0854\n",
       "3               3  -109.0000   37.1281\n",
       "4               4  -109.0000   37.1708\n",
       "...           ...        ...       ...\n",
       "15411       15411  -102.0399   40.8003\n",
       "15412       15412  -102.0399   40.8430\n",
       "15413       15413  -102.0399   40.8857\n",
       "15414       15414  -102.0399   40.9284\n",
       "15415       15415  -102.0399   40.9711\n",
       "\n",
       "[15416 rows x 3 columns]"
      ]
     },
     "execution_count": 2,
     "metadata": {},
     "output_type": "execute_result"
    }
   ],
   "source": [
    "locations = pd.read_csv('../csv_folder/total_centrepoints.csv')\n",
    "locations"
   ]
  },
  {
   "cell_type": "code",
   "execution_count": 3,
   "id": "adde8af0",
   "metadata": {},
   "outputs": [],
   "source": [
    "layers = np.load('/Users/timfrith/code/Alastair908/GlobalGreening/raw_data/20_predictions_single.npy')"
   ]
  },
  {
   "cell_type": "code",
   "execution_count": 4,
   "id": "b0e84daf",
   "metadata": {},
   "outputs": [],
   "source": [
    "im_frame2 = Image.open('/Users/timfrith/code/Alastair908/GlobalGreening/raw_data/NDVI_2002/image0_-109.0_37.0.png')\n",
    "np_frame2 = np.array(im_frame2)"
   ]
  },
  {
   "cell_type": "code",
   "execution_count": 5,
   "id": "a1deeca8",
   "metadata": {},
   "outputs": [],
   "source": [
    "im_frame6 = Image.open('/Users/timfrith/code/Alastair908/GlobalGreening/raw_data/NDVI_2006/image0_-109.0_37.0.png')\n",
    "np_frame6 = np.array(im_frame6)"
   ]
  },
  {
   "cell_type": "code",
   "execution_count": 6,
   "id": "505c1f12",
   "metadata": {},
   "outputs": [],
   "source": [
    "im_frame10 = Image.open('/Users/timfrith/code/Alastair908/GlobalGreening/raw_data/NDVI_2010/image0_-109.0_37.0.png')\n",
    "np_frame10 = np.array(im_frame10)"
   ]
  },
  {
   "cell_type": "code",
   "execution_count": 7,
   "id": "26f4be04",
   "metadata": {},
   "outputs": [],
   "source": [
    "im_frame14 = Image.open('/Users/timfrith/code/Alastair908/GlobalGreening/raw_data/NDVI_2014/image0_-109.0_37.0.png')\n",
    "np_frame14 = np.array(im_frame10)"
   ]
  },
  {
   "cell_type": "code",
   "execution_count": 8,
   "id": "8c2be8c2",
   "metadata": {},
   "outputs": [],
   "source": [
    "layer0 = layers[0]"
   ]
  },
  {
   "cell_type": "code",
   "execution_count": 10,
   "id": "73f7317d",
   "metadata": {},
   "outputs": [],
   "source": [
    "point0 = (layer0[:,:,0] * np_frame2)"
   ]
  },
  {
   "cell_type": "code",
   "execution_count": 11,
   "id": "67e2394b",
   "metadata": {},
   "outputs": [
    {
     "data": {
      "text/plain": [
       "<matplotlib.image.AxesImage at 0x12c95d4e0>"
      ]
     },
     "execution_count": 11,
     "metadata": {},
     "output_type": "execute_result"
    },
    {
     "data": {
      "image/png": "[encoded data removed]",
      "text/plain": [
       "<Figure size 640x480 with 1 Axes>"
      ]
     },
     "metadata": {},
     "output_type": "display_data"
    }
   ],
   "source": [
    "plt.imshow(point0)"
   ]
  },
  {
   "cell_type": "code",
   "execution_count": 12,
   "id": "04f68e60",
   "metadata": {},
   "outputs": [
    {
     "data": {
      "text/plain": [
       "29.305974803542473"
      ]
     },
     "execution_count": 12,
     "metadata": {},
     "output_type": "execute_result"
    }
   ],
   "source": [
    "point0[np.nonzero(point0)].mean()"
   ]
  },
  {
   "cell_type": "code",
   "execution_count": 13,
   "id": "8d191a47",
   "metadata": {},
   "outputs": [],
   "source": [
    "def load_images_ndvi(dataset_root_folder, images_dir, DataFrame_locations):\n",
    "    images_dataset = []\n",
    "    \n",
    "    for index,row in DataFrame_locations.iterrows():\n",
    "        id_ = index\n",
    "        longitude = row['longitude']\n",
    "        latitude = row['latitude']\n",
    "        \n",
    "        image_file =f'image{id_}_{longitude}_{latitude}.png'\n",
    "        path_image = f'{dataset_root_folder}/{images_dir}/{image_file}'\n",
    "        # print(f'loading the image from these file {path_image}')\n",
    "        \n",
    "        image = Image.open(path_image)\n",
    "        type(image)\n",
    "        if np.asarray(image).shape  == (512,512,2): \n",
    "            image = image.convert('L')\n",
    "        \n",
    "        image = np.asarray(image)\n",
    "        images_dataset.append(image)\n",
    "        # print(f'appended image of size {image.shape}')\n",
    "    \n",
    "    images_dataset = np.array(images_dataset)\n",
    "    \n",
    "    return images_dataset\n",
    "\n",
    "def ndvi_mean(mask, image):\n",
    "    '''Calculate the mean result of the mask and image'''\n",
    "        \n",
    "    np_image = np.array(image)\n",
    "    \n",
    "    point = mask[:,:,0] * np_image\n",
    "    \n",
    "    mean =  point[np.nonzero(point)].mean()\n",
    "    \n",
    "    return mean"
   ]
  },
  {
   "cell_type": "code",
   "execution_count": 14,
   "id": "dd785743",
   "metadata": {},
   "outputs": [],
   "source": [
    "ndvi_2006 = load_images_ndvi('/Users/timfrith/code/Alastair908/GlobalGreening/raw_data','NDVI_2006',locations)"
   ]
  },
  {
   "cell_type": "code",
   "execution_count": 15,
   "id": "e80c0503",
   "metadata": {},
   "outputs": [
    {
     "name": "stdout",
     "output_type": "stream",
     "text": [
      "30.35384332103803\n",
      "26.475028746819742\n",
      "25.283686283686283\n",
      "27.727476682108062\n",
      "46.87410046564131\n",
      "54.86047776661166\n",
      "33.94725495832136\n",
      "33.874123876276094\n",
      "44.365378505120106\n",
      "40.95361946391626\n",
      "44.04661026989882\n",
      "54.21538419884118\n",
      "67.60601133717098\n",
      "70.589412709337\n",
      "71.2761271957983\n",
      "67.5185234714038\n",
      "64.81016649187205\n",
      "63.709776572280674\n",
      "73.34532966818426\n",
      "61.71439995406975\n"
     ]
    }
   ],
   "source": [
    "for i in range(20):\n",
    "    print(ndvi_mean(layers[i],ndvi_2006[i]))"
   ]
  },
  {
   "cell_type": "code",
   "execution_count": null,
   "id": "4e23bb32",
   "metadata": {},
   "outputs": [],
   "source": []
  }
 ],
 "metadata": {
  "kernelspec": {
   "display_name": "Python 3 (ipykernel)",
   "language": "python",
   "name": "python3"
  },
  "language_info": {
   "codemirror_mode": {
    "name": "ipython",
    "version": 3
   },
   "file_extension": ".py",
   "mimetype": "text/x-python",
   "name": "python",
   "nbconvert_exporter": "python",
   "pygments_lexer": "ipython3",
   "version": "3.10.6"
  },
  "toc": {
   "base_numbering": 1,
   "nav_menu": {},
   "number_sections": true,
   "sideBar": true,
   "skip_h1_title": false,
   "title_cell": "Table of Contents",
   "title_sidebar": "Contents",
   "toc_cell": false,
   "toc_position": {},
   "toc_section_display": true,
   "toc_window_display": false
  }
 },
 "nbformat": 4,
 "nbformat_minor": 5
}
