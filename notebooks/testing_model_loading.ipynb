{
 "cells": [
  {
   "cell_type": "code",
   "execution_count": 1,
   "id": "05c02d1a-ef89-42d7-9f73-c9479407e1ae",
   "metadata": {},
   "outputs": [
    {
     "name": "stderr",
     "output_type": "stream",
     "text": [
      "2023-06-12 11:31:23.199019: I tensorflow/core/platform/cpu_feature_guard.cc:193] This TensorFlow binary is optimized with oneAPI Deep Neural Network Library (oneDNN) to use the following CPU instructions in performance-critical operations:  AVX2 FMA\n",
      "To enable them in other operations, rebuild TensorFlow with the appropriate compiler flags.\n",
      "2023-06-12 11:31:24.142706: W tensorflow/compiler/xla/stream_executor/platform/default/dso_loader.cc:64] Could not load dynamic library 'libnvinfer.so.7'; dlerror: libnvinfer.so.7: cannot open shared object file: No such file or directory; LD_LIBRARY_PATH: /usr/local/cuda/lib64:/usr/local/nccl2/lib:/usr/local/cuda/extras/CUPTI/lib64\n",
      "2023-06-12 11:31:24.142831: W tensorflow/compiler/xla/stream_executor/platform/default/dso_loader.cc:64] Could not load dynamic library 'libnvinfer_plugin.so.7'; dlerror: libnvinfer_plugin.so.7: cannot open shared object file: No such file or directory; LD_LIBRARY_PATH: /usr/local/cuda/lib64:/usr/local/nccl2/lib:/usr/local/cuda/extras/CUPTI/lib64\n",
      "2023-06-12 11:31:24.142842: W tensorflow/compiler/tf2tensorrt/utils/py_utils.cc:38] TF-TRT Warning: Cannot dlopen some TensorRT libraries. If you would like to use Nvidia GPU with TensorRT, please make sure the missing libraries mentioned above are installed properly.\n"
     ]
    }
   ],
   "source": [
    "import pickle\n",
    "import numpy as np\n",
    "import pandas as pd\n",
    "import math\n",
    "import time\n",
    "from PIL import Image\n",
    "# from patchify import patchify\n",
    "# import albumentations as A\n",
    "from IPython.display import SVG\n",
    "#import graphviz\n",
    "import matplotlib.pyplot as plt\n",
    "%matplotlib inline\n",
    "import os, re, sys, random, shutil #, cv2\n",
    "from google.cloud import storage\n",
    "\n",
    "import tensorflow as tf\n",
    "from tensorflow import keras\n",
    "from tensorflow.keras import backend as K\n",
    "from tensorflow.keras.models import Model\n",
    "from tensorflow.keras.models import Model\n",
    "from tensorflow.keras.optimizers import Adam, Nadam\n",
    "from tensorflow.keras import applications, optimizers\n",
    "from tensorflow.keras.applications import InceptionResNetV2\n",
    "from tensorflow.keras.applications.resnet50 import preprocess_input\n",
    "\n",
    "from tensorflow.keras.preprocessing.image import ImageDataGenerator, load_img, img_to_array\n",
    "from tensorflow.keras.utils import model_to_dot, plot_model, image_dataset_from_directory\n",
    "from tensorflow.keras.callbacks import ModelCheckpoint, ReduceLROnPlateau, EarlyStopping, CSVLogger, LearningRateScheduler\n",
    "from tensorflow.keras.layers import Input, Conv2D, BatchNormalization, Activation, MaxPool2D, Conv2DTranspose, Concatenate, ZeroPadding2D, Dropout\n",
    "\n",
    "from sklearn.preprocessing import MinMaxScaler"
   ]
  },
  {
   "cell_type": "code",
   "execution_count": 2,
   "id": "aab105ef-a792-46e5-8490-32c7cf7f33aa",
   "metadata": {},
   "outputs": [],
   "source": [
    "# parameters\n",
    "DATA_SIZE=1500\n",
    "LOAD_CHUNK_SIZE=500\n",
    "LAND_USE_ARRAY_SIZE=250\n",
    "TRIAL_SIZE=200     # after running it once change to a larger number (up to 15000)\n",
    "DATA_RUN = 'local_VM' #  select from these options:'gcp' local_VM' , 'local' \n",
    "\n",
    "# on Tim's GCP loading data from Bucket\n",
    "BUCKET_NAME = \"GlobalGreening\"\n",
    "images_dir = \"zoomed_photos\"\n",
    "masks_dir = \"ESA_worldcover\"\n",
    "training_output_dir = \"training_outputs\"\n",
    "\n",
    "# on VM workbench in GCP when loading data locally from VM  - change to what is has to be \n",
    "VM_dataset_folder = \"/home/jupyter/GlobalGreening\"  # need to change this \n",
    "VM_images_dir = \"zoomed_photos\"\n",
    "VM_masks_dir = 'ESA_worldcover'\n",
    "VM_output_folder = \"/home/jupyter/GlobalGreening/training_outputs\" # need to change this \n",
    "\n",
    "### for local use - Alenka's computer\n",
    "local_dataset_folder = \"/Users/Alenka/code/Alastair908/GlobalGreening/raw_data\"\n",
    "local_images_dir = \"images_trial_run\"\n",
    "local_masks_dir = \"masks_trial_run\"\n",
    "local_output_folder = \"/Users/Alenka/code/Alastair908/GlobalGreening/training_outputs\""
   ]
  },
  {
   "cell_type": "code",
   "execution_count": 3,
   "id": "004fc360-ddd6-471f-bd31-ed18305fd14c",
   "metadata": {},
   "outputs": [
    {
     "name": "stdout",
     "output_type": "stream",
     "text": [
      "--------\n",
      " model path is /home/jupyter/GlobalGreening/training_outputs/models/20230612-113206_InceptionResNetV2-UNet.h5\n",
      "--------\n",
      " results path is /home/jupyter/GlobalGreening/training_outputs/metrics/20230612-113206_model_training.csv\n",
      "--------\n",
      " model metrics path is /home/jupyter/GlobalGreening/training_outputs/metrics/20230612-113206_model_metrics_plot.png\n",
      "--------\n",
      "predictions folder is /home/jupyter/GlobalGreening/training_outputs/20230612-113206_predictions\n"
     ]
    }
   ],
   "source": [
    "# Define where to store model outputs\n",
    "\n",
    "timestamp = time.strftime(\"%Y%m%d-%H%M%S\")\n",
    "\n",
    "if DATA_RUN == 'gcp':\n",
    "    pass # not completed yet\n",
    "\n",
    "elif DATA_RUN == 'local_VM':\n",
    "    model_path = os.path.join(VM_output_folder, \"models\", f\"{timestamp}_InceptionResNetV2-UNet.h5\")\n",
    "    results_path = os.path.join(VM_output_folder, \"metrics\", f\"{timestamp}_model_training.csv\")\n",
    "    model_metrics_plot_path = os.path.join(VM_output_folder, \"metrics\", f\"{timestamp}_model_metrics_plot.png\")\n",
    "    predictions_dir = os.path.join(VM_output_folder, f\"{timestamp}_predictions\")\n",
    "    \n",
    "elif DATA_RUN == 'local':\n",
    "    model_path = os.path.join(local_output_folder, \"models\", f\"{timestamp}_InceptionResNetV2-UNet.h5\")\n",
    "    results_path = os.path.join(local_output_folder, \"metrics\", f\"{timestamp}_model_training.csv\")\n",
    "    model_metrics_plot_path = os.path.join(local_output_folder, \"metrics\", f\"{timestamp}_model_metrics_plot.png\")\n",
    "    predictions_dir = os.path.join(local_output_folder,  f\"{timestamp}_predictions\")\n",
    "    \n",
    "print(\"--------\")\n",
    "print(f' model path is {model_path}')\n",
    "print(\"--------\")\n",
    "print(f' results path is {results_path}')\n",
    "print(\"--------\")\n",
    "print(f' model metrics path is {model_metrics_plot_path}')\n",
    "print(\"--------\")\n",
    "print(f'predictions folder is {predictions_dir}')"
   ]
  },
  {
   "cell_type": "code",
   "execution_count": null,
   "id": "8315267c-715d-461f-bc75-40445a56298e",
   "metadata": {},
   "outputs": [],
   "source": [
    "model.load_weights(model_path)"
   ]
  },
  {
   "cell_type": "code",
   "execution_count": 4,
   "id": "b02b9f26-4bf2-4fd6-9436-ca61c18ec7b9",
   "metadata": {},
   "outputs": [],
   "source": [
    "model_path = \"/home/jupyter/GlobalGreening/training_outputs/models/20230611-082522_InceptionResNetV2-UNet.h5\""
   ]
  },
  {
   "cell_type": "code",
   "execution_count": 7,
   "id": "86ec8ed1-3e8e-4e4b-9561-bce96fd07b49",
   "metadata": {},
   "outputs": [
    {
     "ename": "NameError",
     "evalue": "name 'CustomScaleLayer' is not defined",
     "output_type": "error",
     "traceback": [
      "\u001b[0;31m---------------------------------------------------------------------------\u001b[0m",
      "\u001b[0;31mNameError\u001b[0m                                 Traceback (most recent call last)",
      "Cell \u001b[0;32mIn[7], line 1\u001b[0m\n\u001b[0;32m----> 1\u001b[0m latest_model \u001b[38;5;241m=\u001b[39m keras\u001b[38;5;241m.\u001b[39mmodels\u001b[38;5;241m.\u001b[39mload_model(model_path, custom_objects\u001b[38;5;241m=\u001b[39m{\u001b[38;5;124m'\u001b[39m\u001b[38;5;124mCustomScaleLayer\u001b[39m\u001b[38;5;124m'\u001b[39m: \u001b[43mCustomScaleLayer\u001b[49m})\n",
      "\u001b[0;31mNameError\u001b[0m: name 'CustomScaleLayer' is not defined"
     ]
    }
   ],
   "source": [
    "latest_model = keras.models.load_model(model_path, custom_objects={'CustomScaleLayer': CustomScaleLayer})"
   ]
  },
  {
   "cell_type": "code",
   "execution_count": null,
   "id": "4f1a8693-a7e8-4522-834b-8e9a649f36a5",
   "metadata": {},
   "outputs": [],
   "source": []
  },
  {
   "cell_type": "code",
   "execution_count": null,
   "id": "2d4ce886-bff9-4ae7-8466-38823092bad6",
   "metadata": {},
   "outputs": [],
   "source": []
  },
  {
   "cell_type": "code",
   "execution_count": null,
   "id": "2630e2ba-b4b2-4066-be2e-5b68d35d8f01",
   "metadata": {},
   "outputs": [],
   "source": []
  }
 ],
 "metadata": {
  "environment": {
   "kernel": "python3",
   "name": "tf2-gpu.2-11.m108",
   "type": "gcloud",
   "uri": "gcr.io/deeplearning-platform-release/tf2-gpu.2-11:m108"
  },
  "kernelspec": {
   "display_name": "Python 3 (ipykernel)",
   "language": "python",
   "name": "python3"
  },
  "language_info": {
   "codemirror_mode": {
    "name": "ipython",
    "version": 3
   },
   "file_extension": ".py",
   "mimetype": "text/x-python",
   "name": "python",
   "nbconvert_exporter": "python",
   "pygments_lexer": "ipython3",
   "version": "3.10.10"
  }
 },
 "nbformat": 4,
 "nbformat_minor": 5
}
