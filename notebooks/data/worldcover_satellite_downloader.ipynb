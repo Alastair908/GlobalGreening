{
 "cells": [
  {
   "cell_type": "code",
   "execution_count": null,
   "id": "1cb4d65c",
   "metadata": {},
   "outputs": [],
   "source": [
    "import ee\n",
    "import urllib.request\n",
    "import pandas as pd\n",
    "import numpy as np\n",
    "\n",
    "ee.Authenticate()\n",
    "ee.Initialize()"
   ]
  },
  {
   "cell_type": "code",
   "execution_count": null,
   "id": "557f2f6d",
   "metadata": {},
   "outputs": [],
   "source": [
    "locations = pd.read_csv('../csv_folder/total_centrepoints.csv')\n",
    "locations"
   ]
  },
  {
   "attachments": {},
   "cell_type": "markdown",
   "id": "b9d2f069",
   "metadata": {},
   "source": [
    "## Copernicus Satellite images"
   ]
  },
  {
   "attachments": {},
   "cell_type": "markdown",
   "id": "ee777d9c",
   "metadata": {},
   "source": [
    "### Single Image"
   ]
  },
  {
   "cell_type": "code",
   "execution_count": null,
   "id": "02f42520",
   "metadata": {},
   "outputs": [],
   "source": [
    "vis_min = 0  # Visualization settings for the image\n",
    "vis_max = 10_000 # Visualization settings for the image\n",
    "vis_bands = ['B4', 'B3', 'B2'] # Includes the bands for RGB \n",
    "imageDimensions = '512x512' # Set image size: '512x512' for CNN model\n",
    "\n",
    "id_ = 1\n",
    "\n",
    "# Centre point for satellite image\n",
    "longitude = -0.125782\n",
    "latitude = 51.508272\n",
    "\n",
    "center = ee.Geometry.Point(longitude,latitude)\n",
    "\n",
    "# Import Sentinel 2 data\n",
    "s2 = (ee.ImageCollection(\"COPERNICUS/S2_SR\")\n",
    "  .filterBounds(center)\n",
    "  .sort('CLOUDY_PIXEL_PERCENTAGE',True)\n",
    "  .filterDate('2021-06-01', '2021-07-30')\n",
    "  .first()\n",
    ")\n",
    "\n",
    "# try:\n",
    "global sentinel_footprint\n",
    "exportArea = (ee.Geometry.BBox(west=longitude - 0.2,\n",
    "                               south=latitude - 0.2,\n",
    "                               east=longitude + 0.2,\n",
    "                               north=latitude + 0.2))\n",
    "# except:\n",
    "#     print(\"No Footprint found\")\n",
    "#     continue\n",
    "\n",
    "\n",
    "# This part is nicer in the JavaScript version, but I did not get it running for Python yet\n",
    "\n",
    "s2Vis = {\n",
    "    'region': exportArea,\n",
    "    'dimensions': imageDimensions,\n",
    "    'format': 'png',\n",
    "    'min': vis_min,\n",
    "    'max': vis_max,\n",
    "    'bands': vis_bands,\n",
    "    'gamma':1.5\n",
    "}\n",
    "\n",
    "s2_url = (s2.getThumbURL(s2Vis))\n",
    "\n",
    "\n",
    "urllib.request.urlretrieve(s2_url, f\"../raw_data/zoomed_photos/image{14509}_{round(longitude,2)}_{round(latitude,2)}.png\")\n",
    "print(s2_url)"
   ]
  },
  {
   "attachments": {},
   "cell_type": "markdown",
   "id": "614b12e4",
   "metadata": {},
   "source": [
    "### Looping Across DataFrame"
   ]
  },
  {
   "cell_type": "code",
   "execution_count": null,
   "id": "025eea3d",
   "metadata": {},
   "outputs": [],
   "source": [
    "vis_min = 0  #Visualization settings for the thumbnail\n",
    "vis_max = 10_000 #Visualization settings for the thumbnail\n",
    "vis_bands = ['B4', 'B3', 'B2'] #Includes the bands for RGB \n",
    "imageDimensions = '512x512' #Set thumbnail image size (can't be too big, or you run into problems)\n",
    "start_location = 14508 # where you will start your loop based on the dataframe\n",
    "end_location = 14512 # where you will end your loop based on the dataframe\n",
    "\n",
    "for index,row in locations.iloc[start_location:end_location].iterrows():\n",
    "    id_ = index\n",
    "    longitude = row['longitude']\n",
    "    latitude = row['latitude']\n",
    "\n",
    "    center = ee.Geometry.Point(longitude,latitude)\n",
    "\n",
    "    # Import Sentinel 2 data\n",
    "    s2 = (ee.ImageCollection(\"COPERNICUS/S2_SR\")\n",
    "      .filterBounds(center)\n",
    "      .sort('CLOUDY_PIXEL_PERCENTAGE',True)\n",
    "      .filterDate('2021-06-01', '202-07-30')\n",
    "      .first()\n",
    "    )\n",
    "\n",
    "    try:\n",
    "        global sentinel_footprint\n",
    "        exportArea = (ee.Geometry.BBox(west=longitude - 0.02135,\n",
    "                                       south=latitude - 0.02135,\n",
    "                                       east=longitude + 0.02135,\n",
    "                                       north=latitude + 0.02135))\n",
    "    except:\n",
    "        print(\"No Footprint found\")\n",
    "        continue\n",
    "\n",
    "\n",
    "    # This part is nicer in the JavaScript version, but I did not get it running for Python yet\n",
    "\n",
    "    s2Vis = {\n",
    "        'region': exportArea,\n",
    "        'dimensions': imageDimensions,\n",
    "        'format': 'png',\n",
    "        'min': vis_min,\n",
    "        'max': vis_max,\n",
    "        'bands': vis_bands,\n",
    "        'gamma':1.5\n",
    "    }\n",
    "\n",
    "    s2_url = (s2.getThumbURL(s2Vis))\n",
    "\n",
    "    try:\n",
    "        urllib.request.urlretrieve(s2_url, f\"../raw_data/zoomed_photos/image{id_}_{round(longitude,2)}_{round(latitude,2)}.png\")\n",
    "        print(f'finished number {id_} at {round(longitude,2)} : {round(latitude,2)}')\n",
    "    except:\n",
    "        print(f\"No link for image {id_} found\")\n",
    "        continue\n",
    "        \n",
    "    if id_ == end_location:\n",
    "        print('Congrats 🎊🎉🥳')"
   ]
  },
  {
   "attachments": {},
   "cell_type": "markdown",
   "id": "4fa2b18c",
   "metadata": {},
   "source": [
    "## ESA Worldcover Downloader"
   ]
  },
  {
   "cell_type": "code",
   "execution_count": null,
   "id": "a8c6fa79",
   "metadata": {},
   "outputs": [],
   "source": [
    "from pystac_client import Client\n",
    "\n",
    "import os\n",
    "from rio_tiler.io import STACReader\n",
    "\n",
    "from utils.labels import label_to_rgb\n",
    "\n",
    "import matplotlib.pyplot as plt"
   ]
  },
  {
   "attachments": {},
   "cell_type": "markdown",
   "id": "580326f6",
   "metadata": {},
   "source": [
    "### Single image"
   ]
  },
  {
   "cell_type": "code",
   "execution_count": null,
   "id": "b9040617",
   "metadata": {},
   "outputs": [],
   "source": [
    "stac_endopoint = 'https://services.terrascope.be/stac/'\n",
    "\n",
    "collection_id = 'urn:eop:VITO:ESA_WorldCover_10m_2021_AWS_V2'"
   ]
  },
  {
   "cell_type": "code",
   "execution_count": null,
   "id": "7105ef21",
   "metadata": {},
   "outputs": [],
   "source": [
    "longitude_world = -104.8\n",
    "\n",
    "latitude_world = 38.8\n",
    "\n",
    "bbox = [longitude_world - 0.02135, latitude_world - 0.02135, longitude_world + 0.02135, latitude_world + 0.02135]\n",
    "\n",
    "client = Client.open(stac_endopoint)\n",
    "\n",
    "search_results = client.search(\n",
    "    collections=collection_id,\n",
    "    bbox=bbox\n",
    ")\n",
    "\n",
    "item = search_results.get_all_items()[0]\n",
    "\n",
    "# this is to tell GDAL we do not need authentication\n",
    "os.environ['AWS_NO_SIGN_REQUEST'] = 'YES'\n",
    "\n",
    "# name of the map asset\n",
    "asset = 'ESA_WORLDCOVER_10M_MAP'\n",
    "\n",
    "with STACReader(None, item=item) as stac:\n",
    "    img = stac.part(bbox, assets=asset)\n",
    "    \n",
    "land_use_array = label_to_rgb(img.data[0])\n",
    "\n",
    "\n",
    "plt.imshow(land_use_array)"
   ]
  },
  {
   "attachments": {},
   "cell_type": "markdown",
   "id": "aae70164",
   "metadata": {},
   "source": [
    "### Looping Across DataFrame"
   ]
  },
  {
   "cell_type": "code",
   "execution_count": null,
   "id": "70ef0e4b",
   "metadata": {},
   "outputs": [],
   "source": [
    "stac_endopoint = 'https://services.terrascope.be/stac/'\n",
    "\n",
    "collection_id = 'urn:eop:VITO:ESA_WorldCover_10m_2021_AWS_V2'"
   ]
  },
  {
   "cell_type": "code",
   "execution_count": null,
   "id": "ed476b8e",
   "metadata": {
    "collapsed": true
   },
   "outputs": [],
   "source": [
    "start_location = 14509 # where you will start your loop based on the dataframe\n",
    "end_location = 14510  # where you will end your loop based on the dataframe\n",
    "target_data = []\n",
    "\n",
    "for index,row in locations.iloc[start_location:end_location].iterrows():\n",
    "        \n",
    "    id_ = index\n",
    "    longitude = row['longitude']\n",
    "    latitude = row['latitude']\n",
    "    \n",
    "    bbox = [longitude - 0.02135, latitude - 0.02135, longitude + 0.02135, latitude + 0.02135]\n",
    "\n",
    "    client = Client.open(stac_endopoint)\n",
    "\n",
    "    search_results = client.search(\n",
    "        collections=collection_id,\n",
    "        bbox=bbox\n",
    "    )\n",
    "\n",
    "    item = search_results.get_all_items()[0]\n",
    "\n",
    "    # this is to tell GDAL we do not need authentication\n",
    "    os.environ['AWS_NO_SIGN_REQUEST'] = 'YES'\n",
    "\n",
    "    # name of the map asset\n",
    "    asset = 'ESA_WORLDCOVER_10M_MAP'\n",
    "\n",
    "    with STACReader(None, item=item) as stac:\n",
    "        img = stac.part(bbox, assets=asset)\n",
    "\n",
    "    land_use_array = label_to_rgb(img.data[0])\n",
    "    \n",
    "    target_data.append(land_use_array)\n",
    "    print(f'at {start_location + len(target_data)} of the arrays')\n",
    "    \n",
    "    if len(target_data)%250 == 0:\n",
    "        target_array = np.array(target_data)\n",
    "        np.save(f'../raw_data/ESA_worldcover/land_use_data_from_{start_location + len(target_data) - 250}_to_{start_location + len(target_data) - 1}.npy',target_array)\n",
    "        \n",
    "        target_data = []\n",
    "        start_location += 250\n",
    "        \n",
    "        continue\n",
    "    \n",
    "    \n",
    "    if start_location + len(target_data) == end_location:\n",
    "        target_array = np.array(target_data)\n",
    "        np.save(f'../raw_data/ESA_worldcover/land_use_data_from_{start_location + len(target_data) - 250}_to_{start_location + len(target_data) - 1}.npy',target_array)\n",
    "        print('Congrats 🎊🎉🥳')\n",
    "    \n",
    "    else:\n",
    "        continue"
   ]
  }
 ],
 "metadata": {
  "kernelspec": {
   "display_name": "Python 3 (ipykernel)",
   "language": "python",
   "name": "python3"
  },
  "language_info": {
   "codemirror_mode": {
    "name": "ipython",
    "version": 3
   },
   "file_extension": ".py",
   "mimetype": "text/x-python",
   "name": "python",
   "nbconvert_exporter": "python",
   "pygments_lexer": "ipython3",
   "version": "3.10.6"
  },
  "toc": {
   "base_numbering": 1,
   "nav_menu": {},
   "number_sections": true,
   "sideBar": true,
   "skip_h1_title": false,
   "title_cell": "Table of Contents",
   "title_sidebar": "Contents",
   "toc_cell": false,
   "toc_position": {},
   "toc_section_display": true,
   "toc_window_display": false
  }
 },
 "nbformat": 4,
 "nbformat_minor": 5
}
