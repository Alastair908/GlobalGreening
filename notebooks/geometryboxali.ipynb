{
 "cells": [
  {
   "cell_type": "code",
   "execution_count": 1,
   "id": "38ef65c4",
   "metadata": {},
   "outputs": [],
   "source": [
    "import pandas as pd\n",
    "import numpy as np"
   ]
  },
  {
   "cell_type": "code",
   "execution_count": 2,
   "id": "a19ba7dd",
   "metadata": {},
   "outputs": [],
   "source": [
    "# bottom left box coordinates\n",
    "box_TL = [-109.0242, 36.6316] \n",
    "box_TR = [-108.9882, 36.6316]\n",
    "box_BL = [-109.0242, 36.5956]\n",
    "box_BR = [-108.9882, 36.5956]\n",
    "\n",
    "#colorado coordinates\n",
    "col_TL = [-109.0242, 41.000227] \n",
    "col_TR = [-102.0231, 41.000227]\n",
    "col_BL = [-109.0242, 36.5956]\n",
    "col_BR = [-102.0231, 36.5956]\n",
    "\n",
    "#list of sets of coordinates for each box \n",
    "top_left = []\n",
    "top_right = []\n",
    "bottom_left = []\n",
    "bottom_right = []\n",
    "\n",
    "box_number = []\n",
    "\n",
    "for i in np.arange(col_BL, col_BR, 0.036):\n",
    "    for j in np.arange(col_BL, col_TL, 0.036):\n",
    "        top_left.append(i)\n",
    "        top_right.append(j)\n",
    "        box_number.append(+1)"
   ]
  },
  {
   "cell_type": "code",
   "execution_count": null,
   "id": "450949bf",
   "metadata": {},
   "outputs": [],
   "source": [
    "boxes = pd.DataFrame({\n",
    "    'top lefts': top_lefts,\n",
    "    'top rights': top_rights,\n",
    "    'bottom lefts': bottom_lefts,\n",
    "    'bottom rights': bottom_rights,\n",
    "})"
   ]
  },
  {
   "cell_type": "code",
   "execution_count": null,
   "id": "ec4c2281",
   "metadata": {},
   "outputs": [],
   "source": [
    "boxes"
   ]
  }
 ],
 "metadata": {
  "kernelspec": {
   "display_name": "Python 3 (ipykernel)",
   "language": "python",
   "name": "python3"
  },
  "language_info": {
   "codemirror_mode": {
    "name": "ipython",
    "version": 3
   },
   "file_extension": ".py",
   "mimetype": "text/x-python",
   "name": "python",
   "nbconvert_exporter": "python",
   "pygments_lexer": "ipython3",
   "version": "3.10.6"
  },
  "toc": {
   "base_numbering": 1,
   "nav_menu": {},
   "number_sections": true,
   "sideBar": true,
   "skip_h1_title": false,
   "title_cell": "Table of Contents",
   "title_sidebar": "Contents",
   "toc_cell": false,
   "toc_position": {},
   "toc_section_display": true,
   "toc_window_display": false
  }
 },
 "nbformat": 4,
 "nbformat_minor": 5
}
