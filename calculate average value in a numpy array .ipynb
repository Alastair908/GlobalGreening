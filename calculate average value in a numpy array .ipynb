{
 "cells": [
  {
   "cell_type": "code",
   "execution_count": null,
   "id": "1477bb0c",
   "metadata": {},
   "outputs": [],
   "source": [
    "import numpy as np\n",
    "from PIL import Image\n",
    "import os\n",
    "\n",
    "folder_path = '......./2002/'\n",
    "\n",
    "average_values_2002 = []\n",
    "\n",
    "# Get all filenames found in file path\n",
    "file_names = os.listdir(folder_path)\n",
    "\n",
    "for file_name in file_names:\n",
    "    # Create the file path\n",
    "    file_path = os.path.join(folder_path, file_name)\n",
    "    # Open image file\n",
    "    image = Image.open(file_path)\n",
    "    # Convert image to numpy array\n",
    "    numpy_array = np.array(image)\n",
    "    # Calculate average and add to list\n",
    "    average_value = np.mean(numpy_array)\n",
    "    average_values.append(average_value)\n",
    "\n"
   ]
  }
 ],
 "metadata": {
  "kernelspec": {
   "display_name": "Python 3 (ipykernel)",
   "language": "python",
   "name": "python3"
  },
  "language_info": {
   "codemirror_mode": {
    "name": "ipython",
    "version": 3
   },
   "file_extension": ".py",
   "mimetype": "text/x-python",
   "name": "python",
   "nbconvert_exporter": "python",
   "pygments_lexer": "ipython3",
   "version": "3.10.6"
  },
  "toc": {
   "base_numbering": 1,
   "nav_menu": {},
   "number_sections": true,
   "sideBar": true,
   "skip_h1_title": false,
   "title_cell": "Table of Contents",
   "title_sidebar": "Contents",
   "toc_cell": false,
   "toc_position": {},
   "toc_section_display": true,
   "toc_window_display": false
  }
 },
 "nbformat": 4,
 "nbformat_minor": 5
}
